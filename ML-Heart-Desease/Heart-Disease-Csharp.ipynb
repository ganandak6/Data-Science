{
 "cells": [
  {
   "cell_type": "code",
   "execution_count": 4,
   "metadata": {},
   "outputs": [],
   "source": [
    "// ML.NET Nuget packages installation\n",
    "#r \"nuget:Microsoft.ML,1.5.5\"\n",
    "\n",
    "//Install XPlot package\n",
    "#r \"nuget:XPlot.Plotly.Interactive\"\n",
    "//#r \"nuget:Microsoft.Data.Analysis\"\n",
    "    \n",
    "using Microsoft.ML;\n",
    "using Microsoft.ML.Data;\n",
    "using XPlot.Plotly;\n",
    "//using Microsoft.Data.Analysis;"
   ]
  },
  {
   "cell_type": "code",
   "execution_count": 5,
   "metadata": {},
   "outputs": [],
   "source": [
    "public class HeartDesease\n",
    "    {\n",
    "        [LoadColumn(0)]\n",
    "        public float age { get; set; }\n",
    "        [LoadColumn(1)]\n",
    "        public float sex { get; set; }\n",
    "        [LoadColumn(2)]\n",
    "        public float cp { get; set; }\n",
    "        [LoadColumn(3)]\n",
    "        public float trestnps { get; set; }\n",
    "        [LoadColumn(4)]\n",
    "        public float chol { get; set; }\n",
    "        [LoadColumn(5)]\n",
    "        public float fbs { get; set; }\n",
    "        [LoadColumn(6)]\n",
    "        public float restecg { get; set; }\n",
    "        [LoadColumn(7)]\n",
    "        public float thalach { get; set; }\n",
    "        [LoadColumn(8)]\n",
    "        public float exang { get; set; }\n",
    "        [LoadColumn(9)]\n",
    "        public float oldpeak { get; set; }\n",
    "        [LoadColumn(10)]\n",
    "        public float slope { get; set; }\n",
    "        [LoadColumn(11)]\n",
    "        public float ca { get; set; }\n",
    "        [LoadColumn(12)]\n",
    "        public float thal { get; set; }\n",
    "        [LoadColumn(13)]\n",
    "        [ColumnName(\"Label\")]\n",
    "        //[Column(Ordinal: \"13\", name: \"Label\")]\n",
    "        public bool target { get; set; }\n",
    "        // public float Features { get; set; }\n",
    "    }"
   ]
  },
  {
   "cell_type": "code",
   "execution_count": 6,
   "metadata": {},
   "outputs": [
    {
     "data": {
      "text/plain": [
       "Code for loading the data into IDataViews: training dataset and test dataset"
      ]
     },
     "metadata": {},
     "output_type": "display_data"
    },
    {
     "data": {
      "text/plain": [
       "Schema of training DataView:"
      ]
     },
     "metadata": {},
     "output_type": "display_data"
    },
    {
     "data": {
      "text/html": [
       "<table><thead><tr><th><i>index</i></th><th>Name</th><th>Index</th><th>IsHidden</th><th>Type</th><th>Annotations</th></tr></thead><tbody><tr><td>0</td><td><div class=\"dni-plaintext\">age</div></td><td><div class=\"dni-plaintext\">0</div></td><td><div class=\"dni-plaintext\">False</div></td><td><div class=\"dni-plaintext\">Single</div></td><td></td></tr><tr><td>1</td><td><div class=\"dni-plaintext\">sex</div></td><td><div class=\"dni-plaintext\">1</div></td><td><div class=\"dni-plaintext\">False</div></td><td><div class=\"dni-plaintext\">Single</div></td><td></td></tr><tr><td>2</td><td><div class=\"dni-plaintext\">cp</div></td><td><div class=\"dni-plaintext\">2</div></td><td><div class=\"dni-plaintext\">False</div></td><td><div class=\"dni-plaintext\">Single</div></td><td></td></tr><tr><td>3</td><td><div class=\"dni-plaintext\">trestnps</div></td><td><div class=\"dni-plaintext\">3</div></td><td><div class=\"dni-plaintext\">False</div></td><td><div class=\"dni-plaintext\">Single</div></td><td></td></tr><tr><td>4</td><td><div class=\"dni-plaintext\">chol</div></td><td><div class=\"dni-plaintext\">4</div></td><td><div class=\"dni-plaintext\">False</div></td><td><div class=\"dni-plaintext\">Single</div></td><td></td></tr><tr><td>5</td><td><div class=\"dni-plaintext\">fbs</div></td><td><div class=\"dni-plaintext\">5</div></td><td><div class=\"dni-plaintext\">False</div></td><td><div class=\"dni-plaintext\">Single</div></td><td></td></tr><tr><td>6</td><td><div class=\"dni-plaintext\">restecg</div></td><td><div class=\"dni-plaintext\">6</div></td><td><div class=\"dni-plaintext\">False</div></td><td><div class=\"dni-plaintext\">Single</div></td><td></td></tr><tr><td>7</td><td><div class=\"dni-plaintext\">thalach</div></td><td><div class=\"dni-plaintext\">7</div></td><td><div class=\"dni-plaintext\">False</div></td><td><div class=\"dni-plaintext\">Single</div></td><td></td></tr><tr><td>8</td><td><div class=\"dni-plaintext\">exang</div></td><td><div class=\"dni-plaintext\">8</div></td><td><div class=\"dni-plaintext\">False</div></td><td><div class=\"dni-plaintext\">Single</div></td><td></td></tr><tr><td>9</td><td><div class=\"dni-plaintext\">oldpeak</div></td><td><div class=\"dni-plaintext\">9</div></td><td><div class=\"dni-plaintext\">False</div></td><td><div class=\"dni-plaintext\">Single</div></td><td></td></tr><tr><td>10</td><td><div class=\"dni-plaintext\">slope</div></td><td><div class=\"dni-plaintext\">10</div></td><td><div class=\"dni-plaintext\">False</div></td><td><div class=\"dni-plaintext\">Single</div></td><td></td></tr><tr><td>11</td><td><div class=\"dni-plaintext\">ca</div></td><td><div class=\"dni-plaintext\">11</div></td><td><div class=\"dni-plaintext\">False</div></td><td><div class=\"dni-plaintext\">Single</div></td><td></td></tr><tr><td>12</td><td><div class=\"dni-plaintext\">thal</div></td><td><div class=\"dni-plaintext\">12</div></td><td><div class=\"dni-plaintext\">False</div></td><td><div class=\"dni-plaintext\">Single</div></td><td></td></tr><tr><td>13</td><td><div class=\"dni-plaintext\">Label</div></td><td><div class=\"dni-plaintext\">13</div></td><td><div class=\"dni-plaintext\">False</div></td><td><div class=\"dni-plaintext\">Boolean</div></td><td></td></tr></tbody></table>"
      ]
     },
     "metadata": {},
     "output_type": "display_data"
    }
   ],
   "source": [
    "display(\"Code for loading the data into IDataViews: training dataset and test dataset\");\n",
    "\n",
    "MLContext mlContext = new MLContext(seed: 0);\n",
    "\n",
    "string dataPath = \"heart-disease.csv\";\n",
    "\n",
    "IDataView dataView = mlContext.Data.LoadFromTextFile<HeartDesease>(dataPath, hasHeader: true, separatorChar: ',');\n",
    "\n",
    "display(\"Schema of training DataView:\");\n",
    "display(dataView.Schema);"
   ]
  },
  {
   "cell_type": "code",
   "execution_count": 33,
   "metadata": {},
   "outputs": [
    {
     "data": {
      "text/html": [
       "<!DOCTYPE html>\r\n",
       "<div style=\"width: 900px; height: 500px;\" id=\"5a2fc55e-347d-4ff3-9c7c-0860baf7fbe4\"></div><script type=\"text/javascript\">\r\n",
       "\n",
       "var renderPlotly = function() {\n",
       "    var xplotRequire = require.config({context:'xplot-3.0.1',paths:{plotly:'https://cdn.plot.ly/plotly-1.49.2.min'}}) || require;\n",
       "    xplotRequire(['plotly'], function(Plotly) { \r\n",
       "\n",
       "            var data = [{\"type\":\"histogram\",\"x\":[63.0,37.0,41.0,56.0,57.0,57.0,56.0,44.0,52.0,57.0,54.0,48.0,49.0,64.0,58.0,50.0,58.0,66.0,43.0,69.0,59.0,44.0,42.0,61.0,40.0,71.0,59.0,51.0,65.0,53.0,41.0,65.0,44.0,54.0,51.0,46.0,54.0,54.0,65.0,65.0,51.0,48.0,45.0,53.0,39.0,52.0,44.0,47.0,53.0,53.0,51.0,66.0,62.0,44.0,63.0,52.0,48.0,45.0,34.0,57.0,71.0,54.0,52.0,41.0,58.0,35.0,51.0,45.0,44.0,62.0,54.0,51.0,29.0,51.0,43.0,55.0,51.0,59.0,52.0,58.0,41.0,45.0,60.0,52.0,42.0,67.0,68.0,46.0,54.0,58.0,48.0,57.0,52.0,54.0,45.0,53.0,62.0,52.0,43.0,53.0,42.0,59.0,63.0,42.0,50.0,68.0,69.0,45.0,50.0,50.0,64.0,57.0,64.0,43.0,55.0,37.0,41.0,56.0,46.0,46.0,64.0,59.0,41.0,54.0,39.0,34.0,47.0,67.0,52.0,74.0,54.0,49.0,42.0,41.0,41.0,49.0,60.0,62.0,57.0,64.0,51.0,43.0,42.0,67.0,76.0,70.0,44.0,60.0,44.0,42.0,66.0,71.0,64.0,66.0,39.0,58.0,47.0,35.0,58.0,56.0,56.0,55.0,41.0,38.0,38.0,67.0,67.0,62.0,63.0,53.0,56.0,48.0,58.0,58.0,60.0,40.0,60.0,64.0,43.0,57.0,55.0,65.0,61.0,58.0,50.0,44.0,60.0,54.0,50.0,41.0,51.0,58.0,54.0,60.0,60.0,59.0,46.0,67.0,62.0,65.0,44.0,60.0,58.0,68.0,62.0,52.0,59.0,60.0,49.0,59.0,57.0,61.0,39.0,61.0,56.0,43.0,62.0,63.0,65.0,48.0,63.0,55.0,65.0,56.0,54.0,70.0,62.0,35.0,59.0,64.0,47.0,57.0,55.0,64.0,70.0,51.0,58.0,60.0,77.0,35.0,70.0,59.0,64.0,57.0,56.0,48.0,56.0,66.0,54.0,69.0,51.0,43.0,62.0,67.0,59.0,45.0,58.0,50.0,62.0,38.0,66.0,52.0,53.0,63.0,54.0,66.0,55.0,49.0,54.0,56.0,46.0,61.0,67.0,58.0,47.0,52.0,58.0,57.0,58.0,61.0,42.0,52.0,59.0,40.0,61.0,46.0,59.0,57.0,57.0,55.0,61.0,58.0,58.0,67.0,44.0,63.0,63.0,59.0,57.0,45.0,68.0,57.0,57.0],\"autobinx\":false,\"nbinsx\":20}];\n",
       "            var layout = \"\";\n",
       "            Plotly.newPlot('5a2fc55e-347d-4ff3-9c7c-0860baf7fbe4', data, layout);\n",
       "        \r\n",
       "});\n",
       "};\r\n",
       "// ensure `require` is available globally\r\n",
       "if ((typeof(require) !==  typeof(Function)) || (typeof(require.config) !== typeof(Function))) {\r\n",
       "    let require_script = document.createElement('script');\r\n",
       "    require_script.setAttribute('src', 'https://cdnjs.cloudflare.com/ajax/libs/require.js/2.3.6/require.min.js');\r\n",
       "    require_script.setAttribute('type', 'text/javascript');\r\n",
       "    \r\n",
       "    \r\n",
       "    require_script.onload = function() {\r\n",
       "        renderPlotly();\r\n",
       "    };\r\n",
       "\r\n",
       "    document.getElementsByTagName('head')[0].appendChild(require_script);\r\n",
       "}\r\n",
       "else {\r\n",
       "    renderPlotly();\r\n",
       "}\r\n",
       "\r\n",
       "</script>\r\n"
      ]
     },
     "metadata": {},
     "output_type": "display_data"
    }
   ],
   "source": [
    "float[] age=dataView.GetColumn<float>(\"age\").ToArray();\n",
    "var ageHistogram=Chart.Plot(new Graph.Histogram(){x=age, autobinx = false, nbinsx = 20});\n",
    "//var layout=new Layout.Layout(){title=\"age Histogram\"};\n",
    "//ageHistogram.WithLayout(layout);\n",
    "display(ageHistogram)\n",
    "//display(age)"
   ]
  },
  {
   "cell_type": "code",
   "execution_count": 28,
   "metadata": {},
   "outputs": [
    {
     "name": "stderr",
     "output_type": "stream",
     "text": [
      "\r\n",
      "(1,45): error CS1061: 'IDataView' does not contain a definition for 'Columns' and no accessible extension method 'Columns' accepting a first argument of type 'IDataView' could be found (are you missing a using directive or an assembly reference?)\r\n",
      "\r\n"
     ]
    },
    {
     "ename": "Cell not executed",
     "evalue": "compilation error",
     "output_type": "error",
     "traceback": []
    }
   ],
   "source": [
    "Chart.Plot(new Graph.Histogram{x = dataView.Columns[\"age\"]})"
   ]
  },
  {
   "cell_type": "code",
   "execution_count": 13,
   "metadata": {},
   "outputs": [
    {
     "data": {
      "text/html": [
       "<table><thead><tr><th><i>index</i></th><th>age</th><th>sex</th><th>cp</th><th>trestnps</th><th>chol</th><th>fbs</th><th>restecg</th><th>thalach</th><th>exang</th><th>oldpeak</th><th>slope</th><th>ca</th><th>thal</th><th>target</th></tr></thead><tbody><tr><td>0</td><td><div class=\"dni-plaintext\">57</div></td><td><div class=\"dni-plaintext\">0</div></td><td><div class=\"dni-plaintext\">1</div></td><td><div class=\"dni-plaintext\">130</div></td><td><div class=\"dni-plaintext\">236</div></td><td><div class=\"dni-plaintext\">0</div></td><td><div class=\"dni-plaintext\">0</div></td><td><div class=\"dni-plaintext\">174</div></td><td><div class=\"dni-plaintext\">0</div></td><td><div class=\"dni-plaintext\">0</div></td><td><div class=\"dni-plaintext\">1</div></td><td><div class=\"dni-plaintext\">1</div></td><td><div class=\"dni-plaintext\">2</div></td><td><div class=\"dni-plaintext\">False</div></td></tr><tr><td>1</td><td><div class=\"dni-plaintext\">57</div></td><td><div class=\"dni-plaintext\">0</div></td><td><div class=\"dni-plaintext\">1</div></td><td><div class=\"dni-plaintext\">130</div></td><td><div class=\"dni-plaintext\">236</div></td><td><div class=\"dni-plaintext\">0</div></td><td><div class=\"dni-plaintext\">0</div></td><td><div class=\"dni-plaintext\">174</div></td><td><div class=\"dni-plaintext\">0</div></td><td><div class=\"dni-plaintext\">0</div></td><td><div class=\"dni-plaintext\">1</div></td><td><div class=\"dni-plaintext\">1</div></td><td><div class=\"dni-plaintext\">2</div></td><td><div class=\"dni-plaintext\">False</div></td></tr><tr><td>2</td><td><div class=\"dni-plaintext\">57</div></td><td><div class=\"dni-plaintext\">0</div></td><td><div class=\"dni-plaintext\">1</div></td><td><div class=\"dni-plaintext\">130</div></td><td><div class=\"dni-plaintext\">236</div></td><td><div class=\"dni-plaintext\">0</div></td><td><div class=\"dni-plaintext\">0</div></td><td><div class=\"dni-plaintext\">174</div></td><td><div class=\"dni-plaintext\">0</div></td><td><div class=\"dni-plaintext\">0</div></td><td><div class=\"dni-plaintext\">1</div></td><td><div class=\"dni-plaintext\">1</div></td><td><div class=\"dni-plaintext\">2</div></td><td><div class=\"dni-plaintext\">False</div></td></tr><tr><td>3</td><td><div class=\"dni-plaintext\">57</div></td><td><div class=\"dni-plaintext\">0</div></td><td><div class=\"dni-plaintext\">1</div></td><td><div class=\"dni-plaintext\">130</div></td><td><div class=\"dni-plaintext\">236</div></td><td><div class=\"dni-plaintext\">0</div></td><td><div class=\"dni-plaintext\">0</div></td><td><div class=\"dni-plaintext\">174</div></td><td><div class=\"dni-plaintext\">0</div></td><td><div class=\"dni-plaintext\">0</div></td><td><div class=\"dni-plaintext\">1</div></td><td><div class=\"dni-plaintext\">1</div></td><td><div class=\"dni-plaintext\">2</div></td><td><div class=\"dni-plaintext\">False</div></td></tr><tr><td>4</td><td><div class=\"dni-plaintext\">57</div></td><td><div class=\"dni-plaintext\">0</div></td><td><div class=\"dni-plaintext\">1</div></td><td><div class=\"dni-plaintext\">130</div></td><td><div class=\"dni-plaintext\">236</div></td><td><div class=\"dni-plaintext\">0</div></td><td><div class=\"dni-plaintext\">0</div></td><td><div class=\"dni-plaintext\">174</div></td><td><div class=\"dni-plaintext\">0</div></td><td><div class=\"dni-plaintext\">0</div></td><td><div class=\"dni-plaintext\">1</div></td><td><div class=\"dni-plaintext\">1</div></td><td><div class=\"dni-plaintext\">2</div></td><td><div class=\"dni-plaintext\">False</div></td></tr><tr><td>5</td><td><div class=\"dni-plaintext\">57</div></td><td><div class=\"dni-plaintext\">0</div></td><td><div class=\"dni-plaintext\">1</div></td><td><div class=\"dni-plaintext\">130</div></td><td><div class=\"dni-plaintext\">236</div></td><td><div class=\"dni-plaintext\">0</div></td><td><div class=\"dni-plaintext\">0</div></td><td><div class=\"dni-plaintext\">174</div></td><td><div class=\"dni-plaintext\">0</div></td><td><div class=\"dni-plaintext\">0</div></td><td><div class=\"dni-plaintext\">1</div></td><td><div class=\"dni-plaintext\">1</div></td><td><div class=\"dni-plaintext\">2</div></td><td><div class=\"dni-plaintext\">False</div></td></tr><tr><td>6</td><td><div class=\"dni-plaintext\">57</div></td><td><div class=\"dni-plaintext\">0</div></td><td><div class=\"dni-plaintext\">1</div></td><td><div class=\"dni-plaintext\">130</div></td><td><div class=\"dni-plaintext\">236</div></td><td><div class=\"dni-plaintext\">0</div></td><td><div class=\"dni-plaintext\">0</div></td><td><div class=\"dni-plaintext\">174</div></td><td><div class=\"dni-plaintext\">0</div></td><td><div class=\"dni-plaintext\">0</div></td><td><div class=\"dni-plaintext\">1</div></td><td><div class=\"dni-plaintext\">1</div></td><td><div class=\"dni-plaintext\">2</div></td><td><div class=\"dni-plaintext\">False</div></td></tr><tr><td>7</td><td><div class=\"dni-plaintext\">57</div></td><td><div class=\"dni-plaintext\">0</div></td><td><div class=\"dni-plaintext\">1</div></td><td><div class=\"dni-plaintext\">130</div></td><td><div class=\"dni-plaintext\">236</div></td><td><div class=\"dni-plaintext\">0</div></td><td><div class=\"dni-plaintext\">0</div></td><td><div class=\"dni-plaintext\">174</div></td><td><div class=\"dni-plaintext\">0</div></td><td><div class=\"dni-plaintext\">0</div></td><td><div class=\"dni-plaintext\">1</div></td><td><div class=\"dni-plaintext\">1</div></td><td><div class=\"dni-plaintext\">2</div></td><td><div class=\"dni-plaintext\">False</div></td></tr><tr><td>8</td><td><div class=\"dni-plaintext\">57</div></td><td><div class=\"dni-plaintext\">0</div></td><td><div class=\"dni-plaintext\">1</div></td><td><div class=\"dni-plaintext\">130</div></td><td><div class=\"dni-plaintext\">236</div></td><td><div class=\"dni-plaintext\">0</div></td><td><div class=\"dni-plaintext\">0</div></td><td><div class=\"dni-plaintext\">174</div></td><td><div class=\"dni-plaintext\">0</div></td><td><div class=\"dni-plaintext\">0</div></td><td><div class=\"dni-plaintext\">1</div></td><td><div class=\"dni-plaintext\">1</div></td><td><div class=\"dni-plaintext\">2</div></td><td><div class=\"dni-plaintext\">False</div></td></tr><tr><td>9</td><td><div class=\"dni-plaintext\">57</div></td><td><div class=\"dni-plaintext\">0</div></td><td><div class=\"dni-plaintext\">1</div></td><td><div class=\"dni-plaintext\">130</div></td><td><div class=\"dni-plaintext\">236</div></td><td><div class=\"dni-plaintext\">0</div></td><td><div class=\"dni-plaintext\">0</div></td><td><div class=\"dni-plaintext\">174</div></td><td><div class=\"dni-plaintext\">0</div></td><td><div class=\"dni-plaintext\">0</div></td><td><div class=\"dni-plaintext\">1</div></td><td><div class=\"dni-plaintext\">1</div></td><td><div class=\"dni-plaintext\">2</div></td><td><div class=\"dni-plaintext\">False</div></td></tr><tr><td>10</td><td><div class=\"dni-plaintext\">57</div></td><td><div class=\"dni-plaintext\">0</div></td><td><div class=\"dni-plaintext\">1</div></td><td><div class=\"dni-plaintext\">130</div></td><td><div class=\"dni-plaintext\">236</div></td><td><div class=\"dni-plaintext\">0</div></td><td><div class=\"dni-plaintext\">0</div></td><td><div class=\"dni-plaintext\">174</div></td><td><div class=\"dni-plaintext\">0</div></td><td><div class=\"dni-plaintext\">0</div></td><td><div class=\"dni-plaintext\">1</div></td><td><div class=\"dni-plaintext\">1</div></td><td><div class=\"dni-plaintext\">2</div></td><td><div class=\"dni-plaintext\">False</div></td></tr><tr><td>11</td><td><div class=\"dni-plaintext\">57</div></td><td><div class=\"dni-plaintext\">0</div></td><td><div class=\"dni-plaintext\">1</div></td><td><div class=\"dni-plaintext\">130</div></td><td><div class=\"dni-plaintext\">236</div></td><td><div class=\"dni-plaintext\">0</div></td><td><div class=\"dni-plaintext\">0</div></td><td><div class=\"dni-plaintext\">174</div></td><td><div class=\"dni-plaintext\">0</div></td><td><div class=\"dni-plaintext\">0</div></td><td><div class=\"dni-plaintext\">1</div></td><td><div class=\"dni-plaintext\">1</div></td><td><div class=\"dni-plaintext\">2</div></td><td><div class=\"dni-plaintext\">False</div></td></tr><tr><td>12</td><td><div class=\"dni-plaintext\">57</div></td><td><div class=\"dni-plaintext\">0</div></td><td><div class=\"dni-plaintext\">1</div></td><td><div class=\"dni-plaintext\">130</div></td><td><div class=\"dni-plaintext\">236</div></td><td><div class=\"dni-plaintext\">0</div></td><td><div class=\"dni-plaintext\">0</div></td><td><div class=\"dni-plaintext\">174</div></td><td><div class=\"dni-plaintext\">0</div></td><td><div class=\"dni-plaintext\">0</div></td><td><div class=\"dni-plaintext\">1</div></td><td><div class=\"dni-plaintext\">1</div></td><td><div class=\"dni-plaintext\">2</div></td><td><div class=\"dni-plaintext\">False</div></td></tr><tr><td>13</td><td><div class=\"dni-plaintext\">57</div></td><td><div class=\"dni-plaintext\">0</div></td><td><div class=\"dni-plaintext\">1</div></td><td><div class=\"dni-plaintext\">130</div></td><td><div class=\"dni-plaintext\">236</div></td><td><div class=\"dni-plaintext\">0</div></td><td><div class=\"dni-plaintext\">0</div></td><td><div class=\"dni-plaintext\">174</div></td><td><div class=\"dni-plaintext\">0</div></td><td><div class=\"dni-plaintext\">0</div></td><td><div class=\"dni-plaintext\">1</div></td><td><div class=\"dni-plaintext\">1</div></td><td><div class=\"dni-plaintext\">2</div></td><td><div class=\"dni-plaintext\">False</div></td></tr><tr><td>14</td><td><div class=\"dni-plaintext\">57</div></td><td><div class=\"dni-plaintext\">0</div></td><td><div class=\"dni-plaintext\">1</div></td><td><div class=\"dni-plaintext\">130</div></td><td><div class=\"dni-plaintext\">236</div></td><td><div class=\"dni-plaintext\">0</div></td><td><div class=\"dni-plaintext\">0</div></td><td><div class=\"dni-plaintext\">174</div></td><td><div class=\"dni-plaintext\">0</div></td><td><div class=\"dni-plaintext\">0</div></td><td><div class=\"dni-plaintext\">1</div></td><td><div class=\"dni-plaintext\">1</div></td><td><div class=\"dni-plaintext\">2</div></td><td><div class=\"dni-plaintext\">False</div></td></tr><tr><td>15</td><td><div class=\"dni-plaintext\">57</div></td><td><div class=\"dni-plaintext\">0</div></td><td><div class=\"dni-plaintext\">1</div></td><td><div class=\"dni-plaintext\">130</div></td><td><div class=\"dni-plaintext\">236</div></td><td><div class=\"dni-plaintext\">0</div></td><td><div class=\"dni-plaintext\">0</div></td><td><div class=\"dni-plaintext\">174</div></td><td><div class=\"dni-plaintext\">0</div></td><td><div class=\"dni-plaintext\">0</div></td><td><div class=\"dni-plaintext\">1</div></td><td><div class=\"dni-plaintext\">1</div></td><td><div class=\"dni-plaintext\">2</div></td><td><div class=\"dni-plaintext\">False</div></td></tr><tr><td>16</td><td><div class=\"dni-plaintext\">57</div></td><td><div class=\"dni-plaintext\">0</div></td><td><div class=\"dni-plaintext\">1</div></td><td><div class=\"dni-plaintext\">130</div></td><td><div class=\"dni-plaintext\">236</div></td><td><div class=\"dni-plaintext\">0</div></td><td><div class=\"dni-plaintext\">0</div></td><td><div class=\"dni-plaintext\">174</div></td><td><div class=\"dni-plaintext\">0</div></td><td><div class=\"dni-plaintext\">0</div></td><td><div class=\"dni-plaintext\">1</div></td><td><div class=\"dni-plaintext\">1</div></td><td><div class=\"dni-plaintext\">2</div></td><td><div class=\"dni-plaintext\">False</div></td></tr><tr><td>17</td><td><div class=\"dni-plaintext\">57</div></td><td><div class=\"dni-plaintext\">0</div></td><td><div class=\"dni-plaintext\">1</div></td><td><div class=\"dni-plaintext\">130</div></td><td><div class=\"dni-plaintext\">236</div></td><td><div class=\"dni-plaintext\">0</div></td><td><div class=\"dni-plaintext\">0</div></td><td><div class=\"dni-plaintext\">174</div></td><td><div class=\"dni-plaintext\">0</div></td><td><div class=\"dni-plaintext\">0</div></td><td><div class=\"dni-plaintext\">1</div></td><td><div class=\"dni-plaintext\">1</div></td><td><div class=\"dni-plaintext\">2</div></td><td><div class=\"dni-plaintext\">False</div></td></tr><tr><td>18</td><td><div class=\"dni-plaintext\">57</div></td><td><div class=\"dni-plaintext\">0</div></td><td><div class=\"dni-plaintext\">1</div></td><td><div class=\"dni-plaintext\">130</div></td><td><div class=\"dni-plaintext\">236</div></td><td><div class=\"dni-plaintext\">0</div></td><td><div class=\"dni-plaintext\">0</div></td><td><div class=\"dni-plaintext\">174</div></td><td><div class=\"dni-plaintext\">0</div></td><td><div class=\"dni-plaintext\">0</div></td><td><div class=\"dni-plaintext\">1</div></td><td><div class=\"dni-plaintext\">1</div></td><td><div class=\"dni-plaintext\">2</div></td><td><div class=\"dni-plaintext\">False</div></td></tr><tr><td>19</td><td><div class=\"dni-plaintext\">57</div></td><td><div class=\"dni-plaintext\">0</div></td><td><div class=\"dni-plaintext\">1</div></td><td><div class=\"dni-plaintext\">130</div></td><td><div class=\"dni-plaintext\">236</div></td><td><div class=\"dni-plaintext\">0</div></td><td><div class=\"dni-plaintext\">0</div></td><td><div class=\"dni-plaintext\">174</div></td><td><div class=\"dni-plaintext\">0</div></td><td><div class=\"dni-plaintext\">0</div></td><td><div class=\"dni-plaintext\">1</div></td><td><div class=\"dni-plaintext\">1</div></td><td><div class=\"dni-plaintext\">2</div></td><td><div class=\"dni-plaintext\">False</div></td></tr><tr><td colspan=\"15\">(209 more)</td></tr></tbody></table>"
      ]
     },
     "metadata": {},
     "output_type": "display_data"
    }
   ],
   "source": [
    "var shuffledData = mlContext.Data.ShuffleRows(dataView,  seed: 2020);\n",
    "\n",
    "var split = mlContext.Data.TrainTestSplit(dataView,  testFraction: 0.2);\n",
    "\n",
    "var trainingData = split.TrainSet;\n",
    "var testingData = split.TestSet;\n",
    "var features = mlContext.Data.CreateEnumerable<HeartDesease>(trainingData, true);\n",
    "\n",
    "display(features);//.Take(10));"
   ]
  },
  {
   "cell_type": "code",
   "execution_count": 16,
   "metadata": {},
   "outputs": [
    {
     "data": {
      "text/plain": [
       "Apply Data Transformations pipeline"
      ]
     },
     "metadata": {},
     "output_type": "display_data"
    },
    {
     "data": {
      "text/plain": [
       "Accuracy0.8108108108108109"
      ]
     },
     "metadata": {},
     "output_type": "display_data"
    }
   ],
   "source": [
    "display(\"Apply Data Transformations pipeline\");\n",
    "\n",
    "//Common data process configuration with pipeline data transformations\n",
    "string[] featureColumnNames =\n",
    "                dataView.Schema\n",
    "                    .Select(column => column.Name)\n",
    "                    .Where(columnName => columnName != \"Label\").ToArray();\n",
    "\n",
    "\n",
    "IEstimator<ITransformer> dataPrepareEstimator = mlContext.Transforms.Concatenate(\"Features\", featureColumnNames)\n",
    "                                                            .Append(mlContext.Transforms.NormalizeMinMax(\"Features\"))                                                                                                                        \n",
    "                                                            .Append(mlContext.BinaryClassification.Trainers.AveragedPerceptron());\n",
    "    \n",
    "     //Train the model\n",
    "            \n",
    "            ITransformer model = dataPrepareEstimator.Fit(trainingData);\n",
    "           \n",
    "\n",
    "            // Use trained model to make inferences on test data\n",
    "            IDataView testDataPredictions = model.Transform(testingData);\n",
    "            var calibratorEstimator = mlContext.BinaryClassification.Calibrators.Platt();\n",
    "            ITransformer calibratorTransformer = calibratorEstimator.Fit(testDataPredictions);\n",
    "            var finalData = calibratorTransformer.Transform(testDataPredictions).Preview();\n",
    "    \n",
    "    CalibratedBinaryClassificationMetrics trainedModelMetrics = mlContext.BinaryClassification.Evaluate(calibratorTransformer.Transform(testDataPredictions));\n",
    "     display(\"Accuracy\" + trainedModelMetrics.Accuracy);"
   ]
  },
  {
   "cell_type": "code",
   "execution_count": null,
   "metadata": {},
   "outputs": [],
   "source": []
  }
 ],
 "metadata": {
  "kernelspec": {
   "display_name": ".NET (C#)",
   "language": "C#",
   "name": ".net-csharp"
  },
  "language_info": {
   "file_extension": ".cs",
   "mimetype": "text/x-csharp",
   "name": "C#",
   "pygments_lexer": "csharp",
   "version": "8.0"
  }
 },
 "nbformat": 4,
 "nbformat_minor": 2
}
