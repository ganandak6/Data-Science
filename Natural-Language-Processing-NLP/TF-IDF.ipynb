{
 "cells": [
  {
   "cell_type": "code",
   "execution_count": 16,
   "metadata": {},
   "outputs": [
    {
     "name": "stderr",
     "output_type": "stream",
     "text": [
      "[nltk_data] Downloading package punkt to\n",
      "[nltk_data]     C:\\Users\\ganan\\AppData\\Roaming\\nltk_data...\n",
      "[nltk_data]   Unzipping tokenizers\\punkt.zip.\n"
     ]
    },
    {
     "data": {
      "text/plain": [
       "True"
      ]
     },
     "execution_count": 16,
     "metadata": {},
     "output_type": "execute_result"
    }
   ],
   "source": [
    "import nltk\n",
    "nltk.download('punkt')"
   ]
  },
  {
   "cell_type": "code",
   "execution_count": 19,
   "metadata": {},
   "outputs": [],
   "source": [
    "import math"
   ]
  },
  {
   "cell_type": "code",
   "execution_count": 5,
   "metadata": {},
   "outputs": [],
   "source": [
    "dataset = {\n",
    "     \"tfidf_1.txt\":open(\"tfidf_1.txt\").read(),\n",
    "     #\"tfidf_2.txt\":open(\"tfidf_2.txt\").read(),\n",
    "     \"tfidf_3.txt\":open(\"tfidf_3.txt\").read(),\n",
    "     \"tfidf_4.txt\":open(\"tfidf_4.txt\").read(),\n",
    "     \"tfidf_5.txt\":open(\"tfidf_5.txt\").read(),\n",
    "     \"tfidf_6.txt\":open(\"tfidf_6.txt\").read(),\n",
    "     \"tfidf_7.txt\":open(\"tfidf_7.txt\").read(),\n",
    "     \"tfidf_8.txt\":open(\"tfidf_8.txt\").read(),\n",
    "     \"tfidf_9.txt\":open(\"tfidf_9.txt\").read(),\n",
    "     \"tfidf_10.txt\":open(\"tfidf_10.txt\").read(),     \n",
    "}"
   ]
  },
  {
   "cell_type": "code",
   "execution_count": 6,
   "metadata": {},
   "outputs": [
    {
     "data": {
      "text/plain": [
       "dict_keys(['tfidf_1.txt', 'tfidf_3.txt', 'tfidf_4.txt', 'tfidf_5.txt', 'tfidf_6.txt', 'tfidf_7.txt', 'tfidf_8.txt', 'tfidf_9.txt', 'tfidf_10.txt'])"
      ]
     },
     "execution_count": 6,
     "metadata": {},
     "output_type": "execute_result"
    }
   ],
   "source": [
    "dataset.keys()"
   ]
  },
  {
   "cell_type": "code",
   "execution_count": null,
   "metadata": {},
   "outputs": [],
   "source": [
    "#displays file content \n",
    "dataset[\"tfidf_1.txt\"]"
   ]
  },
  {
   "cell_type": "code",
   "execution_count": 17,
   "metadata": {},
   "outputs": [],
   "source": [
    "def tf(dataset,file_name):\n",
    "    text=dataset[file_name]\n",
    "    tokens=nltk.word_tokenize(text)\n",
    "    fd=nltk.FreqDist(tokens)\n",
    "    return fd"
   ]
  },
  {
   "cell_type": "code",
   "execution_count": 18,
   "metadata": {},
   "outputs": [
    {
     "data": {
      "text/plain": [
       "FreqDist({'the': 81, ',': 54, 'and': 46, 'of': 39, '.': 27, 'in': 21, 'war': 12, 'on': 11, 'to': 9, 'United': 9, ...})"
      ]
     },
     "execution_count": 18,
     "metadata": {},
     "output_type": "execute_result"
    }
   ],
   "source": [
    "tf(dataset,\"tfidf_1.txt\")"
   ]
  },
  {
   "cell_type": "code",
   "execution_count": 23,
   "metadata": {},
   "outputs": [],
   "source": [
    "def idf(dataset,term):\n",
    "    count = [term in dataset[file_name] for file_name in dataset]\n",
    "    inv_df = math.log(len(count)/sum(count))\n",
    "    return inv_df"
   ]
  },
  {
   "cell_type": "code",
   "execution_count": 24,
   "metadata": {},
   "outputs": [
    {
     "data": {
      "text/plain": [
       "0.5877866649021191"
      ]
     },
     "execution_count": 24,
     "metadata": {},
     "output_type": "execute_result"
    }
   ],
   "source": [
    "idf(dataset,\"world\")"
   ]
  },
  {
   "cell_type": "code",
   "execution_count": 25,
   "metadata": {},
   "outputs": [
    {
     "ename": "ZeroDivisionError",
     "evalue": "division by zero",
     "output_type": "error",
     "traceback": [
      "\u001b[1;31m---------------------------------------------------------------------------\u001b[0m",
      "\u001b[1;31mZeroDivisionError\u001b[0m                         Traceback (most recent call last)",
      "\u001b[1;32m<ipython-input-25-92893ece48ae>\u001b[0m in \u001b[0;36m<module>\u001b[1;34m\u001b[0m\n\u001b[1;32m----> 1\u001b[1;33m \u001b[0midf\u001b[0m\u001b[1;33m(\u001b[0m\u001b[0mdataset\u001b[0m\u001b[1;33m,\u001b[0m\u001b[1;34m\"iphone\"\u001b[0m\u001b[1;33m)\u001b[0m\u001b[1;33m\u001b[0m\u001b[1;33m\u001b[0m\u001b[0m\n\u001b[0m",
      "\u001b[1;32m<ipython-input-23-2ebc173cb5ac>\u001b[0m in \u001b[0;36midf\u001b[1;34m(dataset, term)\u001b[0m\n\u001b[0;32m      1\u001b[0m \u001b[1;32mdef\u001b[0m \u001b[0midf\u001b[0m\u001b[1;33m(\u001b[0m\u001b[0mdataset\u001b[0m\u001b[1;33m,\u001b[0m\u001b[0mterm\u001b[0m\u001b[1;33m)\u001b[0m\u001b[1;33m:\u001b[0m\u001b[1;33m\u001b[0m\u001b[1;33m\u001b[0m\u001b[0m\n\u001b[0;32m      2\u001b[0m     \u001b[0mcount\u001b[0m \u001b[1;33m=\u001b[0m \u001b[1;33m[\u001b[0m\u001b[0mterm\u001b[0m \u001b[1;32min\u001b[0m \u001b[0mdataset\u001b[0m\u001b[1;33m[\u001b[0m\u001b[0mfile_name\u001b[0m\u001b[1;33m]\u001b[0m \u001b[1;32mfor\u001b[0m \u001b[0mfile_name\u001b[0m \u001b[1;32min\u001b[0m \u001b[0mdataset\u001b[0m\u001b[1;33m]\u001b[0m\u001b[1;33m\u001b[0m\u001b[1;33m\u001b[0m\u001b[0m\n\u001b[1;32m----> 3\u001b[1;33m     \u001b[0minv_df\u001b[0m \u001b[1;33m=\u001b[0m \u001b[0mmath\u001b[0m\u001b[1;33m.\u001b[0m\u001b[0mlog\u001b[0m\u001b[1;33m(\u001b[0m\u001b[0mlen\u001b[0m\u001b[1;33m(\u001b[0m\u001b[0mcount\u001b[0m\u001b[1;33m)\u001b[0m\u001b[1;33m/\u001b[0m\u001b[0msum\u001b[0m\u001b[1;33m(\u001b[0m\u001b[0mcount\u001b[0m\u001b[1;33m)\u001b[0m\u001b[1;33m)\u001b[0m\u001b[1;33m\u001b[0m\u001b[1;33m\u001b[0m\u001b[0m\n\u001b[0m\u001b[0;32m      4\u001b[0m     \u001b[1;32mreturn\u001b[0m \u001b[0minv_df\u001b[0m\u001b[1;33m\u001b[0m\u001b[1;33m\u001b[0m\u001b[0m\n",
      "\u001b[1;31mZeroDivisionError\u001b[0m: division by zero"
     ]
    }
   ],
   "source": [
    "idf(dataset,\"iphone\")"
   ]
  },
  {
   "cell_type": "code",
   "execution_count": 39,
   "metadata": {},
   "outputs": [],
   "source": [
    "def tfidf(dataset,file_name,n):\n",
    "    term_scores = {}\n",
    "    file_fd=tf(dataset,file_name)\n",
    "    for term in file_fd:\n",
    "        if term.isalpha():\n",
    "            idf_val=idf(dataset,term)\n",
    "            tf_val=file_fd[term]\n",
    "            tfidf_val=tf_val*idf_val\n",
    "            term_scores[term]=round(tfidf_val,2)\n",
    "    return sorted(term_scores.items(),key=lambda x:-x[1])[:n]"
   ]
  },
  {
   "cell_type": "code",
   "execution_count": 40,
   "metadata": {},
   "outputs": [
    {
     "data": {
      "text/plain": [
       "[('Soviet', 19.78),\n",
       " ('Union', 17.58),\n",
       " ('Axis', 15.38),\n",
       " ('Pacific', 10.99),\n",
       " ('Japan', 10.53),\n",
       " ('Germany', 10.53),\n",
       " ('Allies', 9.02),\n",
       " ('invasion', 9.02),\n",
       " ('World', 8.79),\n",
       " ('Asia', 8.79)]"
      ]
     },
     "execution_count": 40,
     "metadata": {},
     "output_type": "execute_result"
    }
   ],
   "source": [
    "tfidf(dataset,\"tfidf_1.txt\",10)"
   ]
  },
  {
   "cell_type": "code",
   "execution_count": 42,
   "metadata": {},
   "outputs": [
    {
     "name": "stdout",
     "output_type": "stream",
     "text": [
      "tfidf_1.txt:\n",
      " [('Soviet', 19.78), ('Union', 17.58), ('Axis', 15.38), ('Pacific', 10.99), ('Japan', 10.53)] \n",
      "\n",
      "tfidf_3.txt:\n",
      " [('Napoleon', 30.08), ('French', 15.38), ('Coalition', 10.99), ('Prussia', 6.59), ('military', 5.49)] \n",
      "\n",
      "tfidf_4.txt:\n",
      " [('Washington', 24.17), ('President', 8.79), ('Continental', 4.39), ('presided', 4.39), ('strong', 4.39)] \n",
      "\n",
      "tfidf_5.txt:\n",
      " [('Newton', 21.97), ('scientists', 6.59), ('motion', 4.51), ('mathematician', 4.39), ('described', 4.39)] \n",
      "\n",
      "tfidf_6.txt:\n",
      " [('Revolution', 19.78), ('French', 14.28), ('privileges', 6.59), ('central', 6.59), ('Napoleon', 6.02)] \n",
      "\n",
      "tfidf_7.txt:\n",
      " [('Leonardo', 17.58), ('Vinci', 8.79), ('painting', 6.59), ('Piero', 4.39), ('architecture', 4.39)] \n",
      "\n",
      "tfidf_8.txt:\n",
      " [('Titanic', 17.58), ('passengers', 10.99), ('maritime', 8.79), ('safety', 8.79), ('lifeboats', 8.79)] \n",
      "\n",
      "tfidf_9.txt:\n",
      " [('Rockefeller', 21.97), ('business', 6.59), ('Standard', 6.59), ('Oil', 6.59), ('University', 4.51)] \n",
      "\n",
      "tfidf_10.txt:\n",
      " [('Tesla', 13.18), ('electrical', 8.79), ('wireless', 6.02), ('mechanical', 4.39), ('alternating', 4.39)] \n",
      "\n"
     ]
    }
   ],
   "source": [
    "for file_name in dataset:\n",
    "    print(\"{0}:\\n {1} \\n\".format(file_name,tfidf(dataset,file_name,5)))"
   ]
  },
  {
   "cell_type": "code",
   "execution_count": null,
   "metadata": {},
   "outputs": [],
   "source": []
  }
 ],
 "metadata": {
  "kernelspec": {
   "display_name": "Python 3",
   "language": "python",
   "name": "python3"
  },
  "language_info": {
   "codemirror_mode": {
    "name": "ipython",
    "version": 3
   },
   "file_extension": ".py",
   "mimetype": "text/x-python",
   "name": "python",
   "nbconvert_exporter": "python",
   "pygments_lexer": "ipython3",
   "version": "3.7.6"
  }
 },
 "nbformat": 4,
 "nbformat_minor": 2
}
